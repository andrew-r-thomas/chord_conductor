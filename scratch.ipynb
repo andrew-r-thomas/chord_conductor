{
 "cells": [
  {
   "cell_type": "code",
   "execution_count": 26,
   "metadata": {},
   "outputs": [
    {
     "data": {
      "text/html": [
       "<div>\n",
       "<style scoped>\n",
       "    .dataframe tbody tr th:only-of-type {\n",
       "        vertical-align: middle;\n",
       "    }\n",
       "\n",
       "    .dataframe tbody tr th {\n",
       "        vertical-align: top;\n",
       "    }\n",
       "\n",
       "    .dataframe thead th {\n",
       "        text-align: right;\n",
       "    }\n",
       "</style>\n",
       "<table border=\"1\" class=\"dataframe\">\n",
       "  <thead>\n",
       "    <tr style=\"text-align: right;\">\n",
       "      <th></th>\n",
       "      <th>quote</th>\n",
       "      <th>author</th>\n",
       "    </tr>\n",
       "  </thead>\n",
       "  <tbody>\n",
       "    <tr>\n",
       "      <th>0</th>\n",
       "      <td>I'm selfish, impatient and a little insecure. ...</td>\n",
       "      <td>Marilyn Monroe</td>\n",
       "    </tr>\n",
       "    <tr>\n",
       "      <th>1</th>\n",
       "      <td>You've gotta dance like there's nobody watchin...</td>\n",
       "      <td>William W. Purkey</td>\n",
       "    </tr>\n",
       "    <tr>\n",
       "      <th>2</th>\n",
       "      <td>You know you're in love when you can't fall as...</td>\n",
       "      <td>Dr. Seuss</td>\n",
       "    </tr>\n",
       "    <tr>\n",
       "      <th>3</th>\n",
       "      <td>A friend is someone who knows all about you an...</td>\n",
       "      <td>Elbert Hubbard</td>\n",
       "    </tr>\n",
       "    <tr>\n",
       "      <th>4</th>\n",
       "      <td>Darkness cannot drive out darkness: only light...</td>\n",
       "      <td>Martin Luther King Jr., A Testament of Hope: T...</td>\n",
       "    </tr>\n",
       "    <tr>\n",
       "      <th>...</th>\n",
       "      <td>...</td>\n",
       "      <td>...</td>\n",
       "    </tr>\n",
       "    <tr>\n",
       "      <th>493785</th>\n",
       "      <td>I do believe the most important thing I can do...</td>\n",
       "      <td>John C. Stennis</td>\n",
       "    </tr>\n",
       "    <tr>\n",
       "      <th>493786</th>\n",
       "      <td>I'd say I'm a bit antimadridista although I do...</td>\n",
       "      <td>Isco</td>\n",
       "    </tr>\n",
       "    <tr>\n",
       "      <th>493787</th>\n",
       "      <td>The future is now.</td>\n",
       "      <td>Nam June Paik</td>\n",
       "    </tr>\n",
       "    <tr>\n",
       "      <th>493788</th>\n",
       "      <td>In all my life and in the future, I will alway...</td>\n",
       "      <td>Norodom Sihamoni</td>\n",
       "    </tr>\n",
       "    <tr>\n",
       "      <th>493789</th>\n",
       "      <td>The future is as bright as the promises of God.</td>\n",
       "      <td>William Carey</td>\n",
       "    </tr>\n",
       "  </tbody>\n",
       "</table>\n",
       "<p>493790 rows × 2 columns</p>\n",
       "</div>"
      ],
      "text/plain": [
       "                                                    quote  \\\n",
       "0       I'm selfish, impatient and a little insecure. ...   \n",
       "1       You've gotta dance like there's nobody watchin...   \n",
       "2       You know you're in love when you can't fall as...   \n",
       "3       A friend is someone who knows all about you an...   \n",
       "4       Darkness cannot drive out darkness: only light...   \n",
       "...                                                   ...   \n",
       "493785  I do believe the most important thing I can do...   \n",
       "493786  I'd say I'm a bit antimadridista although I do...   \n",
       "493787                                 The future is now.   \n",
       "493788  In all my life and in the future, I will alway...   \n",
       "493789    The future is as bright as the promises of God.   \n",
       "\n",
       "                                                   author  \n",
       "0                                          Marilyn Monroe  \n",
       "1                                       William W. Purkey  \n",
       "2                                               Dr. Seuss  \n",
       "3                                          Elbert Hubbard  \n",
       "4       Martin Luther King Jr., A Testament of Hope: T...  \n",
       "...                                                   ...  \n",
       "493785                                    John C. Stennis  \n",
       "493786                                               Isco  \n",
       "493787                                      Nam June Paik  \n",
       "493788                                   Norodom Sihamoni  \n",
       "493789                                      William Carey  \n",
       "\n",
       "[493790 rows x 2 columns]"
      ]
     },
     "execution_count": 26,
     "metadata": {},
     "output_type": "execute_result"
    }
   ],
   "source": [
    "import pandas as pd\n",
    "df = pd.read_csv(\"quotes.csv\")\n",
    "df"
   ]
  },
  {
   "cell_type": "code",
   "execution_count": 27,
   "metadata": {},
   "outputs": [
    {
     "data": {
      "text/plain": [
       "True"
      ]
     },
     "execution_count": 27,
     "metadata": {},
     "output_type": "execute_result"
    }
   ],
   "source": [
    "len(df[\"quote\"]) == len(df[\"quote\"].unique())"
   ]
  }
 ],
 "metadata": {
  "kernelspec": {
   "display_name": "Python 3",
   "language": "python",
   "name": "python3"
  },
  "language_info": {
   "codemirror_mode": {
    "name": "ipython",
    "version": 3
   },
   "file_extension": ".py",
   "mimetype": "text/x-python",
   "name": "python",
   "nbconvert_exporter": "python",
   "pygments_lexer": "ipython3",
   "version": "3.11.7"
  }
 },
 "nbformat": 4,
 "nbformat_minor": 2
}
